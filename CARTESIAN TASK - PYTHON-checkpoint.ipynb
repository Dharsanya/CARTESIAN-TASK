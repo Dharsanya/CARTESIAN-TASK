{
 "cells": [
  {
   "cell_type": "markdown",
   "id": "23d2ba9d",
   "metadata": {},
   "source": [
    "# CARTESIAN TASK - PYTHON PROGRAMMING"
   ]
  },
  {
   "cell_type": "markdown",
   "id": "072a67ec",
   "metadata": {},
   "source": [
    "Write a program in any language of your choice (C, Java, SQL Stored Procedure, Unix Shell Programming, Python).  Focus on getting the logic accurate rather than 100% technically correct syntax, as evaluation is more on your ability to logically design the construct.\n",
    "The problem Statement\n",
    "\n",
    "The program takes input a short abstract and outputs the following\n",
    "\n",
    "•\tprints each word in reverse.  \n",
    "\n",
    "•\tprints Top 2 occurring words in sorted order. The words that have occurred most of the time.\n"
   ]
  },
  {
   "cell_type": "code",
   "execution_count": 21,
   "id": "4ed95d14",
   "metadata": {},
   "outputs": [
    {
     "name": "stdout",
     "output_type": "stream",
     "text": [
      "Enter Input StringThis declaration represents a political commitment among declaration partners to advance a positive vision for the Internet in this era of a united europe\n",
      "REVERSED STRING \n",
      "europe united a of era this in internet the for vision positive a advance to partners declaration among commitment political a represents declaration this\n"
     ]
    }
   ],
   "source": [
    "from collections import Counter\n",
    "  \n",
    "data_set =input(\"Enter Input String\")\n",
    "data=data_set.lower()  \n",
    "\n",
    "# split() returns list of all the words in the string\n",
    "split_it = data.split()\n",
    "rever=split_it.reverse()\n",
    "print(\"REVERSED STRING \")\n",
    "print(' '.join(split_it))"
   ]
  },
  {
   "cell_type": "code",
   "execution_count": 22,
   "id": "5136bd73",
   "metadata": {},
   "outputs": [
    {
     "name": "stdout",
     "output_type": "stream",
     "text": [
      "TOP 2 OCCURING STRINGS ARE ('a', 3) ('this', 2)\n"
     ]
    }
   ],
   "source": [
    "# Pass the split_it list to instance of Counter class.\n",
    "Counter = Counter(split_it)\n",
    "  \n",
    "# most_common() produces k frequently encountered\n",
    "# input values and their respective counts.\n",
    "most_occur = Counter.most_common(4)\n",
    "\n",
    "print(\"TOP 2 OCCURING STRINGS ARE\",most_occur[0],most_occur[1])"
   ]
  },
  {
   "cell_type": "code",
   "execution_count": null,
   "id": "85ec7ba5",
   "metadata": {},
   "outputs": [],
   "source": []
  }
 ],
 "metadata": {
  "kernelspec": {
   "display_name": "Python 3 (ipykernel)",
   "language": "python",
   "name": "python3"
  },
  "language_info": {
   "codemirror_mode": {
    "name": "ipython",
    "version": 3
   },
   "file_extension": ".py",
   "mimetype": "text/x-python",
   "name": "python",
   "nbconvert_exporter": "python",
   "pygments_lexer": "ipython3",
   "version": "3.9.12"
  }
 },
 "nbformat": 4,
 "nbformat_minor": 5
}
